{
 "cells": [
  {
   "cell_type": "code",
   "execution_count": 1,
   "metadata": {},
   "outputs": [],
   "source": [
    "import numpy as np\n",
    "from scipy.io import loadmat\n",
    "m = loadmat('hw3Data/TrainingSamplesDCT_subsets_8.mat')\n",
    "p1 = loadmat('hw3Data/Prior_1.mat')\n",
    "p2 = loadmat('hw3Data/Prior_2.mat')\n",
    "alpha = loadmat('hw3Data/Alpha.mat')"
   ]
  },
  {
   "cell_type": "code",
   "execution_count": 3,
   "metadata": {},
   "outputs": [],
   "source": [
    "BG1,BG2,BG3,BG4 = m['D1_BG'],m['D2_BG'],m['D3_BG'],m['D4_BG']\n",
    "FG1,FG2,FG3,FG4 = m['D1_FG'],m['D2_FG'],m['D3_FG'],m['D4_FG']\n",
    "w0_1,mu0_FG_1,mu0_BG_1 = p1['W0'],p1['mu0_FG'].T,p1['mu0_BG'].T\n",
    "w0_2,mu0_FG_2,mu0_FG_2 = p2['W0'],p2['mu0_FG'].T,p2['mu0_BG'].T\n",
    "a = alpha['alpha']"
   ]
  },
  {
   "cell_type": "code",
   "execution_count": 4,
   "metadata": {},
   "outputs": [],
   "source": [
    "cov_FG1 = np.cov(FG1.T)\n",
    "cov_BG1 = np.cov(BG1.T)"
   ]
  },
  {
   "cell_type": "code",
   "execution_count": 22,
   "metadata": {},
   "outputs": [
    {
     "data": {
      "text/plain": [
       "(64, 1)"
      ]
     },
     "execution_count": 22,
     "metadata": {},
     "output_type": "execute_result"
    }
   ],
   "source": [
    "mu0_FG_1.shape"
   ]
  },
  {
   "cell_type": "code",
   "execution_count": 32,
   "metadata": {},
   "outputs": [],
   "source": [
    "mu1_FG1_list,mu1_BG1_list = [],[]\n",
    "cov1_FG1_list,cov1_BG1_list= [],[]"
   ]
  },
  {
   "cell_type": "code",
   "execution_count": 21,
   "metadata": {},
   "outputs": [
    {
     "name": "stdout",
     "output_type": "stream",
     "text": [
      "(64, 1)\n"
     ]
    }
   ],
   "source": [
    "mu_FG1 = np.mean(FG1,axis = 0)[:,np.newaxis]\n",
    "mu_BG1 = np.mean(BG1,axis = 0)[:,np.newaxis]\n",
    "print(mu_FG1.shape)"
   ]
  },
  {
   "cell_type": "code",
   "execution_count": 33,
   "metadata": {},
   "outputs": [],
   "source": [
    "from numpy.linalg import inv,det\n",
    "for i in range(a.shape[1]):\n",
    "    temp0 = (a[0][i] * w0_1).flatten()\n",
    "    cov0_FG1 = np.diag(temp)\n",
    "    cov0_BG1 = np.diag(temp)\n",
    "    weight1_FG1 = cov0_FG1.dot(inv(cov0_FG1 + cov_FG1/FG1.shape[0]))\n",
    "    weight1_BG1 = cov0_BG1.dot(inv(cov0_BG1 + cov_BG1/BG1.shape[0]))\n",
    "    weight2_FG1 = (cov_FG1/FG1.shape[0]).dot(inv(cov0_FG1 + cov_FG1/FG1.shape[0]))\n",
    "    weight2_BG1 = (cov_BG1/BG1.shape[0]).dot(inv(cov0_BG1 + cov_BG1/BG1.shape[0]))\n",
    "    mu1_FG1 = weight1_FG1.dot(mu_FG1) + weight2_FG1.dot(mu0_FG_1)\n",
    "    mu1_BG1 = weight1_BG1.dot(mu_BG1) + weight2_BG1.dot(mu0_BG_1)\n",
    "#     print(mu1_FG1.shape)\n",
    "    cov1_FG1 = (cov0_FG1.dot(inv(cov0_FG1 + cov_FG1/FG1.shape[0]))).dot(cov_FG1/FG1.shape[0])\n",
    "    cov1_BG1 = (cov0_BG1.dot(inv(cov0_BG1 + cov_BG1/BG1.shape[0]))).dot(cov_BG1/BG1.shape[0])\n",
    "    mu1_FG1_list.append(mu1_FG1)\n",
    "    mu1_BG1_list.append(mu1_BG1)\n",
    "    cov1_FG1_list.append(cov1_FG1)\n",
    "    cov1_BG1_list.append(cov1_BG1)\n",
    "mu1_FG1_list = np.array(mu1_FG1_list)\n",
    "mu1_BG1_list = np.array(mu1_BG1_list)\n",
    "cov1_FG1_list = np.array(cov1_FG1_list)\n",
    "cov1_BG1_list = np.array(cov1_BG1_list)"
   ]
  },
  {
   "cell_type": "code",
   "execution_count": 44,
   "metadata": {},
   "outputs": [
    {
     "data": {
      "text/plain": [
       "array([ 1.01399868e+00, -3.78660641e-04,  5.85895066e-04,  2.34522107e-03,\n",
       "       -1.15979025e-02,  1.69599627e-04,  1.59745044e-03,  7.40323016e-03,\n",
       "        2.46012624e-03, -3.01291811e-03, -3.34886498e-03,  1.24085799e-03,\n",
       "        2.14951510e-03, -8.24603469e-03, -4.46541195e-03,  5.74468288e-04,\n",
       "        7.30594472e-03, -7.59507488e-03,  4.67832650e-03,  3.63138131e-03,\n",
       "        6.14704983e-04, -4.61146144e-04,  1.68969795e-03,  1.65279930e-03,\n",
       "       -4.51781616e-03,  1.86373363e-04,  5.24819000e-03, -4.05225156e-03,\n",
       "       -1.14888891e-03,  6.28304062e-04, -6.67840441e-03,  4.02245049e-03,\n",
       "        4.19209580e-03, -1.83617526e-03,  3.23385315e-03, -2.39536718e-03,\n",
       "        1.06121330e-03,  1.43880888e-03,  9.47207013e-04, -5.44518642e-04,\n",
       "        1.75161609e-03,  1.58383178e-03, -2.05394718e-03,  1.31785529e-03,\n",
       "       -4.64104083e-03,  1.44750371e-03, -1.02181572e-03,  3.14767189e-04,\n",
       "        1.27614441e-03, -9.36059438e-04,  9.64542482e-04,  1.13373816e-03,\n",
       "       -1.04498467e-06,  1.23328889e-03, -4.14171713e-05,  7.18417496e-04,\n",
       "        9.50126051e-04, -1.11274694e-03,  4.31380352e-04,  4.03156902e-04,\n",
       "       -1.31661963e-03, -5.75028661e-04, -3.58302014e-04, -1.19985141e-04])"
      ]
     },
     "execution_count": 44,
     "metadata": {},
     "output_type": "execute_result"
    }
   ],
   "source": [
    "mu1_FG1_list[0].flatten()"
   ]
  },
  {
   "cell_type": "code",
   "execution_count": 38,
   "metadata": {},
   "outputs": [
    {
     "data": {
      "text/plain": [
       "array([ 2.99413051e+00,  1.18781357e-03, -2.85318095e-03, -4.37200552e-03,\n",
       "        3.40048575e-04, -2.76697736e-03,  1.05064058e-03,  9.30044218e-05,\n",
       "       -3.03858129e-03, -1.71850694e-03, -7.93829051e-04, -6.55986475e-05,\n",
       "       -1.47524769e-03, -7.54796320e-04, -1.11704294e-03,  2.24027618e-03,\n",
       "        2.21676354e-03,  2.48444559e-03,  8.71394428e-04, -7.37987499e-04,\n",
       "        2.23714787e-04, -1.05765914e-03, -5.76159368e-04, -4.59565845e-04,\n",
       "       -6.26366153e-04, -3.45393170e-04,  1.95455680e-03, -1.76209850e-04,\n",
       "       -7.96955058e-04,  7.90621482e-04, -3.01213719e-04,  6.41988180e-04,\n",
       "       -3.16687138e-06, -7.89556366e-04,  1.03475151e-04,  1.57193029e-04,\n",
       "        4.75180441e-05, -2.17695848e-04, -1.06987432e-04, -4.53316386e-04,\n",
       "       -4.08791312e-05,  4.68803888e-04, -1.01002154e-04,  1.04868203e-04,\n",
       "        1.55298023e-04,  2.58170182e-04, -7.04865943e-04,  4.40582217e-04,\n",
       "       -1.87081053e-04, -2.05445215e-04,  3.90431289e-05,  1.63238954e-04,\n",
       "        3.96444936e-05,  4.02862003e-04,  1.02526303e-04,  3.83658642e-04,\n",
       "       -1.91355626e-04, -1.07959781e-04,  7.17117342e-05,  1.68293686e-04,\n",
       "       -8.19394671e-05,  9.26336523e-05,  3.48185751e-06,  9.40911325e-05])"
      ]
     },
     "execution_count": 38,
     "metadata": {},
     "output_type": "execute_result"
    }
   ],
   "source": [
    "mu1_BG1_list[4].flatten()"
   ]
  },
  {
   "cell_type": "code",
   "execution_count": 39,
   "metadata": {},
   "outputs": [
    {
     "data": {
      "text/plain": [
       "array([[ 9.54645011e-05,  1.09059125e-06, -1.16709991e-06, ...,\n",
       "        -3.59172676e-08, -6.17726216e-08,  5.95313187e-08],\n",
       "       [ 1.09059125e-06,  6.23485866e-05, -3.50612060e-06, ...,\n",
       "         4.98484907e-08,  3.02194120e-07, -1.10324578e-07],\n",
       "       [-1.16709991e-06, -3.50612060e-06,  6.52810500e-05, ...,\n",
       "         8.89869190e-08,  6.81386883e-08,  2.01450614e-07],\n",
       "       ...,\n",
       "       [-3.59172676e-08,  4.98484907e-08,  8.89869190e-08, ...,\n",
       "         1.55990050e-07,  3.42921167e-08, -3.54840997e-08],\n",
       "       [-6.17726216e-08,  3.02194120e-07,  6.81386883e-08, ...,\n",
       "         3.42921167e-08,  1.15578729e-07, -1.79828954e-08],\n",
       "       [ 5.95313187e-08, -1.10324578e-07,  2.01450614e-07, ...,\n",
       "        -3.54840997e-08, -1.79828954e-08,  9.66151481e-08]])"
      ]
     },
     "execution_count": 39,
     "metadata": {},
     "output_type": "execute_result"
    }
   ],
   "source": [
    "cov1_FG1_list[4]"
   ]
  },
  {
   "cell_type": "code",
   "execution_count": 41,
   "metadata": {},
   "outputs": [
    {
     "data": {
      "text/plain": [
       "array([[ 9.15787900e-05, -2.72574821e-07,  5.33646498e-08, ...,\n",
       "        -2.08151086e-08, -1.27682770e-08,  2.17257656e-08],\n",
       "       [-2.72574821e-07,  3.51393147e-05, -3.12540296e-06, ...,\n",
       "        -6.53751856e-09, -1.25473223e-08,  5.09065486e-08],\n",
       "       [ 5.33646498e-08, -3.12540296e-06,  4.29859496e-05, ...,\n",
       "         2.33687954e-08,  1.16025327e-08, -2.73203873e-08],\n",
       "       ...,\n",
       "       [-2.08151086e-08, -6.53751856e-09,  2.33687954e-08, ...,\n",
       "         2.92918084e-08, -3.22053091e-09, -2.59348072e-10],\n",
       "       [-1.27682770e-08, -1.25473223e-08,  1.16025327e-08, ...,\n",
       "        -3.22053091e-09,  2.34548416e-08,  8.79777108e-10],\n",
       "       [ 2.17257656e-08,  5.09065486e-08, -2.73203873e-08, ...,\n",
       "        -2.59348072e-10,  8.79777108e-10,  1.70603296e-08]])"
      ]
     },
     "execution_count": 41,
     "metadata": {},
     "output_type": "execute_result"
    }
   ],
   "source": [
    "cov1_BG1_list[4]"
   ]
  },
  {
   "cell_type": "code",
   "execution_count": null,
   "metadata": {},
   "outputs": [],
   "source": []
  }
 ],
 "metadata": {
  "kernelspec": {
   "display_name": "Python 3",
   "language": "python",
   "name": "python3"
  },
  "language_info": {
   "codemirror_mode": {
    "name": "ipython",
    "version": 3
   },
   "file_extension": ".py",
   "mimetype": "text/x-python",
   "name": "python",
   "nbconvert_exporter": "python",
   "pygments_lexer": "ipython3",
   "version": "3.7.3"
  }
 },
 "nbformat": 4,
 "nbformat_minor": 2
}
