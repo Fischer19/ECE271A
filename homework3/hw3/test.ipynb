{
 "cells": [
  {
   "cell_type": "code",
   "execution_count": 1,
   "metadata": {},
   "outputs": [],
   "source": [
    "import numpy as np\n",
    "from scipy.io import loadmat\n",
    "m = loadmat('hw3Data/TrainingSamplesDCT_subsets_8.mat')\n",
    "p1 = loadmat('hw3Data/Prior_1.mat')\n",
    "p2 = loadmat('hw3Data/Prior_2.mat')\n",
    "alpha = loadmat('hw3Data/Alpha.mat')"
   ]
  },
  {
   "cell_type": "code",
   "execution_count": 2,
   "metadata": {},
   "outputs": [],
   "source": [
    "BG1,BG2,BG3,BG4 = m['D1_BG'],m['D2_BG'],m['D3_BG'],m['D4_BG']\n",
    "FG1,FG2,FG3,FG4 = m['D1_FG'],m['D2_FG'],m['D3_FG'],m['D4_FG']\n",
    "w0_1,mu0_FG_1,mu0_BG_1 = p1['W0'],p1['mu0_FG'].T,p1['mu0_BG'].T\n",
    "w0_2,mu0_FG_2,mu0_FG_2 = p2['W0'],p2['mu0_FG'].T,p2['mu0_BG'].T\n",
    "a = alpha['alpha']"
   ]
  },
  {
   "cell_type": "code",
   "execution_count": 3,
   "metadata": {},
   "outputs": [],
   "source": [
    "cov_FG1 = np.cov(FG1.T)\n",
    "cov_BG1 = np.cov(BG1.T)"
   ]
  },
  {
   "cell_type": "code",
   "execution_count": 4,
   "metadata": {},
   "outputs": [
    {
     "data": {
      "text/plain": [
       "(64, 1)"
      ]
     },
     "execution_count": 4,
     "metadata": {},
     "output_type": "execute_result"
    }
   ],
   "source": [
    "mu0_FG_1.shape"
   ]
  },
  {
   "cell_type": "code",
   "execution_count": 5,
   "metadata": {},
   "outputs": [],
   "source": [
    "mu1_FG1_list,mu1_BG1_list = [],[]\n",
    "cov1_FG1_list,cov1_BG1_list= [],[]"
   ]
  },
  {
   "cell_type": "code",
   "execution_count": 6,
   "metadata": {},
   "outputs": [
    {
     "name": "stdout",
     "output_type": "stream",
     "text": [
      "(64, 1)\n"
     ]
    }
   ],
   "source": [
    "mu_FG1 = np.mean(FG1,axis = 0)[:,np.newaxis]\n",
    "mu_BG1 = np.mean(BG1,axis = 0)[:,np.newaxis]\n",
    "print(mu_FG1.shape)"
   ]
  },
  {
   "cell_type": "code",
   "execution_count": 7,
   "metadata": {},
   "outputs": [],
   "source": [
    "from numpy.linalg import inv,det\n",
    "for i in range(a.shape[1]):\n",
    "    temp = (a[0][i] * w0_1).flatten()\n",
    "    cov0_FG1 = np.diag(temp)\n",
    "    cov0_BG1 = np.diag(temp)\n",
    "    weight1_FG1 = cov0_FG1.dot(inv(cov0_FG1 + cov_FG1/FG1.shape[0]))\n",
    "    weight1_BG1 = cov0_BG1.dot(inv(cov0_BG1 + cov_BG1/BG1.shape[0]))\n",
    "    weight2_FG1 = (cov_FG1/FG1.shape[0]).dot(inv(cov0_FG1 + cov_FG1/FG1.shape[0]))\n",
    "    weight2_BG1 = (cov_BG1/BG1.shape[0]).dot(inv(cov0_BG1 + cov_BG1/BG1.shape[0]))\n",
    "    mu1_FG1 = weight1_FG1.dot(mu_FG1) + weight2_FG1.dot(mu0_FG_1)\n",
    "    mu1_BG1 = weight1_BG1.dot(mu_BG1) + weight2_BG1.dot(mu0_BG_1)\n",
    "#     print(mu1_FG1.shape)\n",
    "    cov1_FG1 = (cov0_FG1.dot(inv(cov0_FG1 + cov_FG1/FG1.shape[0]))).dot(cov_FG1/FG1.shape[0])\n",
    "    cov1_BG1 = (cov0_BG1.dot(inv(cov0_BG1 + cov_BG1/BG1.shape[0]))).dot(cov_BG1/BG1.shape[0])\n",
    "    mu1_FG1_list.append(mu1_FG1)\n",
    "    mu1_BG1_list.append(mu1_BG1)\n",
    "    cov1_FG1_list.append(cov1_FG1)\n",
    "    cov1_BG1_list.append(cov1_BG1)\n",
    "mu1_FG1_list = np.array(mu1_FG1_list)\n",
    "mu1_BG1_list = np.array(mu1_BG1_list)\n",
    "cov1_FG1_list = np.array(cov1_FG1_list)\n",
    "cov1_BG1_list = np.array(cov1_BG1_list)"
   ]
  },
  {
   "cell_type": "code",
   "execution_count": 8,
   "metadata": {},
   "outputs": [
    {
     "data": {
      "text/plain": [
       "array([ 1.01399868e+00, -3.78660641e-04,  5.85895066e-04,  2.34522107e-03,\n",
       "       -1.15979025e-02,  1.69599627e-04,  1.59745044e-03,  7.40323016e-03,\n",
       "        2.46012624e-03, -3.01291811e-03, -3.34886498e-03,  1.24085799e-03,\n",
       "        2.14951510e-03, -8.24603469e-03, -4.46541195e-03,  5.74468288e-04,\n",
       "        7.30594472e-03, -7.59507488e-03,  4.67832650e-03,  3.63138131e-03,\n",
       "        6.14704983e-04, -4.61146144e-04,  1.68969795e-03,  1.65279930e-03,\n",
       "       -4.51781616e-03,  1.86373363e-04,  5.24819000e-03, -4.05225156e-03,\n",
       "       -1.14888891e-03,  6.28304062e-04, -6.67840441e-03,  4.02245049e-03,\n",
       "        4.19209580e-03, -1.83617526e-03,  3.23385315e-03, -2.39536718e-03,\n",
       "        1.06121330e-03,  1.43880888e-03,  9.47207013e-04, -5.44518642e-04,\n",
       "        1.75161609e-03,  1.58383178e-03, -2.05394718e-03,  1.31785529e-03,\n",
       "       -4.64104083e-03,  1.44750371e-03, -1.02181572e-03,  3.14767189e-04,\n",
       "        1.27614441e-03, -9.36059438e-04,  9.64542482e-04,  1.13373816e-03,\n",
       "       -1.04498467e-06,  1.23328889e-03, -4.14171713e-05,  7.18417496e-04,\n",
       "        9.50126051e-04, -1.11274694e-03,  4.31380352e-04,  4.03156902e-04,\n",
       "       -1.31661963e-03, -5.75028661e-04, -3.58302014e-04, -1.19985141e-04])"
      ]
     },
     "execution_count": 8,
     "metadata": {},
     "output_type": "execute_result"
    }
   ],
   "source": [
    "mu1_FG1_list[0].flatten()"
   ]
  },
  {
   "cell_type": "code",
   "execution_count": 9,
   "metadata": {},
   "outputs": [
    {
     "data": {
      "text/plain": [
       "array([ 2.93169577e+00,  3.79915474e-03, -7.63996180e-03, -5.44781515e-03,\n",
       "        7.57946365e-04, -2.73038495e-03,  7.97890854e-04,  6.17892575e-04,\n",
       "       -3.65321950e-03, -1.68327454e-03, -5.46161685e-04, -4.22190936e-04,\n",
       "       -1.09805842e-03, -1.05745768e-03, -1.57476472e-03,  2.10603585e-03,\n",
       "        2.39342012e-03,  2.50354351e-03,  1.12385339e-03, -6.74360982e-04,\n",
       "        1.98902499e-04, -1.05818598e-03, -6.01597068e-04, -5.52665428e-04,\n",
       "       -6.98849137e-04, -4.64212231e-04,  1.91785301e-03, -2.70070899e-04,\n",
       "       -9.97113521e-04,  9.55913601e-04, -3.68276159e-04,  5.92229287e-04,\n",
       "        1.65148388e-05, -9.91079016e-04,  1.03557690e-04,  2.00294354e-04,\n",
       "        4.39021502e-05, -2.71642741e-04, -1.97857716e-04, -3.62841662e-04,\n",
       "        2.34770349e-05,  5.02770319e-04, -1.26695258e-04,  1.35428449e-04,\n",
       "        4.72332930e-05,  3.47179747e-04, -6.75286501e-04,  4.72592333e-04,\n",
       "       -1.86977295e-04, -2.19635060e-04,  4.02494415e-05,  1.50429407e-04,\n",
       "        6.17819617e-06,  4.04364175e-04,  1.27303506e-04,  4.27492851e-04,\n",
       "       -2.07513204e-04, -1.25445560e-04,  8.07060914e-05,  1.73050432e-04,\n",
       "       -8.78527802e-05,  1.09754422e-04,  6.75696895e-06,  8.44774734e-05])"
      ]
     },
     "execution_count": 9,
     "metadata": {},
     "output_type": "execute_result"
    }
   ],
   "source": [
    "mu1_BG1_list[4].flatten()"
   ]
  },
  {
   "cell_type": "code",
   "execution_count": 10,
   "metadata": {},
   "outputs": [
    {
     "data": {
      "text/plain": [
       "array([[ 2.58437367e-03,  3.04030979e-04, -3.96152755e-04, ...,\n",
       "        -7.73497000e-07, -6.34983428e-07,  2.68359137e-07],\n",
       "       [ 3.04030979e-04,  6.21499486e-04, -2.49882447e-04, ...,\n",
       "         5.62103052e-07,  2.37729976e-06, -1.62290101e-06],\n",
       "       [-3.96152755e-04, -2.49882447e-04,  7.79396560e-04, ...,\n",
       "         4.02627684e-07,  3.14331481e-07,  2.10565933e-06],\n",
       "       ...,\n",
       "       [-7.73497000e-07,  5.62103052e-07,  4.02627684e-07, ...,\n",
       "         2.00108948e-07,  3.75360683e-08, -4.13173741e-08],\n",
       "       [-6.34983428e-07,  2.37729976e-06,  3.14331481e-07, ...,\n",
       "         3.75360683e-08,  1.53213327e-07, -2.84509401e-08],\n",
       "       [ 2.68359137e-07, -1.62290101e-06,  2.10565933e-06, ...,\n",
       "        -4.13173741e-08, -2.84509401e-08,  1.32954244e-07]])"
      ]
     },
     "execution_count": 10,
     "metadata": {},
     "output_type": "execute_result"
    }
   ],
   "source": [
    "cov1_FG1_list[4]"
   ]
  },
  {
   "cell_type": "code",
   "execution_count": 11,
   "metadata": {},
   "outputs": [
    {
     "data": {
      "text/plain": [
       "array([[ 1.09700680e-03, -5.16184815e-06,  2.13659021e-06, ...,\n",
       "        -2.37113201e-07, -1.44969655e-07,  2.62821095e-07],\n",
       "       [-5.16184815e-06,  7.01821567e-05, -1.43353697e-05, ...,\n",
       "        -1.37912414e-08, -2.56181289e-08,  1.04849256e-07],\n",
       "       [ 2.13659021e-06, -1.43353697e-05,  1.02190967e-04, ...,\n",
       "         6.07190159e-08,  3.61658230e-08, -7.30628732e-08],\n",
       "       ...,\n",
       "       [-2.37113201e-07, -1.37912414e-08,  6.07190159e-08, ...,\n",
       "         2.96576455e-08, -3.22815251e-09, -3.31875346e-10],\n",
       "       [-1.44969655e-07, -2.56181289e-08,  3.61658230e-08, ...,\n",
       "        -3.22815251e-09,  2.37483580e-08,  8.52461036e-10],\n",
       "       [ 2.62821095e-07,  1.04849256e-07, -7.30628732e-08, ...,\n",
       "        -3.31875346e-10,  8.52461036e-10,  1.73158190e-08]])"
      ]
     },
     "execution_count": 11,
     "metadata": {},
     "output_type": "execute_result"
    }
   ],
   "source": [
    "cov1_BG1_list[4]"
   ]
  },
  {
   "cell_type": "code",
   "execution_count": 13,
   "metadata": {},
   "outputs": [
    {
     "name": "stdout",
     "output_type": "stream",
     "text": [
      "[[1 2 3]\n",
      " [0 5 6]\n",
      " [0 0 9]]\n",
      "[[1 0 0 0 0 0 0 0 0]\n",
      " [0 2 0 0 0 0 0 0 0]\n",
      " [0 0 3 0 0 0 0 0 0]\n",
      " [0 0 0 4 0 0 0 0 0]\n",
      " [0 0 0 0 5 0 0 0 0]\n",
      " [0 0 0 0 0 6 0 0 0]\n",
      " [0 0 0 0 0 0 7 0 0]\n",
      " [0 0 0 0 0 0 0 8 0]\n",
      " [0 0 0 0 0 0 0 0 9]]\n"
     ]
    }
   ],
   "source": [
    "a = np.array([[1,2,3],[4,5,6],[7,8,9]])\n",
    "b = np.triu([[1,2,3],[4,5,6],[7,8,9]],k=0)\n",
    "c = np.diag(a.flatten())\n",
    "print(b)\n",
    "print(c)"
   ]
  },
  {
   "cell_type": "code",
   "execution_count": 14,
   "metadata": {},
   "outputs": [
    {
     "name": "stdout",
     "output_type": "stream",
     "text": [
      "[[  1   2   3]\n",
      " [  2  29  36]\n",
      " [  3  36 126]]\n"
     ]
    }
   ],
   "source": [
    "print(b.T.dot(b))"
   ]
  },
  {
   "cell_type": "code",
   "execution_count": 16,
   "metadata": {},
   "outputs": [
    {
     "name": "stdout",
     "output_type": "stream",
     "text": [
      "[1.  0.2] [[0.37139068 0.31622777]\n",
      " [0.92847669 0.9486833 ]]\n"
     ]
    }
   ],
   "source": [
    "from numpy import linalg as LA\n",
    "A = np.array([[5,-8/5],[12,-19/5]])\n",
    "w,v = LA.eig(A)\n",
    "print(w,v)"
   ]
  },
  {
   "cell_type": "code",
   "execution_count": 17,
   "metadata": {},
   "outputs": [
    {
     "name": "stdout",
     "output_type": "stream",
     "text": [
      "[1.  0.2]\n"
     ]
    }
   ],
   "source": [
    "print(w)"
   ]
  },
  {
   "cell_type": "code",
   "execution_count": 44,
   "metadata": {},
   "outputs": [
    {
     "data": {
      "text/plain": [
       "array([[ 5. , -1.6],\n",
       "       [12. , -3.8]])"
      ]
     },
     "execution_count": 44,
     "metadata": {},
     "output_type": "execute_result"
    }
   ],
   "source": [
    "v.dot(np.diag(w)).dot(LA.inv(v))"
   ]
  },
  {
   "cell_type": "code",
   "execution_count": 34,
   "metadata": {},
   "outputs": [
    {
     "name": "stdout",
     "output_type": "stream",
     "text": [
      "[[2.]\n",
      " [5.]]\n"
     ]
    }
   ],
   "source": [
    "x = np.array([[2],[5]])\n",
    "print(np.dot(A,x))"
   ]
  },
  {
   "cell_type": "code",
   "execution_count": 24,
   "metadata": {},
   "outputs": [
    {
     "data": {
      "text/plain": [
       "array([[ 5. , -1.6],\n",
       "       [12. , -3.8]])"
      ]
     },
     "execution_count": 24,
     "metadata": {},
     "output_type": "execute_result"
    }
   ],
   "source": [
    "A"
   ]
  },
  {
   "cell_type": "code",
   "execution_count": 29,
   "metadata": {},
   "outputs": [
    {
     "name": "stdout",
     "output_type": "stream",
     "text": [
      "[[2 1]\n",
      " [5 3]]\n"
     ]
    }
   ],
   "source": [
    "p = np.array([[2,1],[5,3]])\n",
    "print(p)"
   ]
  },
  {
   "cell_type": "code",
   "execution_count": 43,
   "metadata": {},
   "outputs": [
    {
     "data": {
      "text/plain": [
       "array([[ 5. , 12. ],\n",
       "       [-1.6, -3.8]])"
      ]
     },
     "execution_count": 43,
     "metadata": {},
     "output_type": "execute_result"
    }
   ],
   "source": [
    "(LA.inv(v.T).dot(np.diag(w))).dot(v.T)"
   ]
  },
  {
   "cell_type": "code",
   "execution_count": 36,
   "metadata": {},
   "outputs": [],
   "source": [
    "c = np.diag(w)"
   ]
  },
  {
   "cell_type": "code",
   "execution_count": 45,
   "metadata": {},
   "outputs": [],
   "source": [
    "d = ((p).dot(c))"
   ]
  },
  {
   "cell_type": "code",
   "execution_count": 46,
   "metadata": {},
   "outputs": [
    {
     "data": {
      "text/plain": [
       "array([[ 5. , -1.6],\n",
       "       [12. , -3.8]])"
      ]
     },
     "execution_count": 46,
     "metadata": {},
     "output_type": "execute_result"
    }
   ],
   "source": [
    "np.dot(d,LA.inv(p))"
   ]
  },
  {
   "cell_type": "code",
   "execution_count": 47,
   "metadata": {},
   "outputs": [
    {
     "name": "stdout",
     "output_type": "stream",
     "text": [
      "[[ 6. -2.]\n",
      " [15. -5.]]\n"
     ]
    }
   ],
   "source": [
    "c = np.array([[1,0],[0,0]])\n",
    "print(p.dot(c).dot(LA.inv(p)))"
   ]
  },
  {
   "cell_type": "code",
   "execution_count": 48,
   "metadata": {},
   "outputs": [
    {
     "name": "stdout",
     "output_type": "stream",
     "text": [
      "[[ 6. -2.]\n",
      " [15. -5.]]\n"
     ]
    }
   ],
   "source": [
    "for i in range(10):\n",
    "    B = A.dot(A)\n",
    "    A = B\n",
    "print(A)"
   ]
  },
  {
   "cell_type": "code",
   "execution_count": null,
   "metadata": {},
   "outputs": [],
   "source": []
  }
 ],
 "metadata": {
  "kernelspec": {
   "display_name": "Python 3",
   "language": "python",
   "name": "python3"
  },
  "language_info": {
   "codemirror_mode": {
    "name": "ipython",
    "version": 3
   },
   "file_extension": ".py",
   "mimetype": "text/x-python",
   "name": "python",
   "nbconvert_exporter": "python",
   "pygments_lexer": "ipython3",
   "version": "3.7.3"
  }
 },
 "nbformat": 4,
 "nbformat_minor": 2
}
